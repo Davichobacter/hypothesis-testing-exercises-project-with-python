{
  "cells": [
    {
      "cell_type": "markdown",
      "id": "d9d036c6",
      "metadata": {
        "id": "d9d036c6"
      },
      "source": [
        "# Problemas de prueba de hipótesis"
      ]
    },
    {
      "cell_type": "code",
      "source": [
        "import numpy as np\n",
        "import pandas as pd\n",
        "import matplotlib.pyplot as plt\n",
        "import seaborn as sns\n",
        "import scipy"
      ],
      "metadata": {
        "id": "WFtNmzpjg7lE"
      },
      "id": "WFtNmzpjg7lE",
      "execution_count": 10,
      "outputs": []
    },
    {
      "cell_type": "markdown",
      "id": "d157c4db",
      "metadata": {
        "id": "d157c4db"
      },
      "source": [
        "## Ejercicio 1\n",
        "\n",
        "Usted es un nutricionista que investiga dos tipos diferentes de dietas para ver si existe una diferencia significativa en la pérdida de peso después de un mes. Eliges dos grupos aleatorios de personas; un grupo sigue la primera dieta y el otro sigue la segunda. Al final del mes, se registra la pérdida de peso (en kg) de cada persona:\n",
        "\n",
        "| Diet 1 | Diet 2 |\n",
        "|:-------|:-------|\n",
        "| 2.0 | 3.0 |\n",
        "| 2.5 | 3.2 |\n",
        "| 3.0 | 3.1 |\n",
        "| 2.8 | 2.9 |\n",
        "| 2.3 | 2.8 |\n",
        "| 2.7 | 3.0 |\n",
        "| 2.5 | 3.2 |\n",
        "\n",
        "Con estos datos se busca responder a la siguiente pregunta: ¿Existe una diferencia significativa en la pérdida de peso promedio entre las personas que siguieron la primera dieta y las que siguieron la segunda dieta?\n",
        "\n",
        "Para sacar conclusiones, siga los siguientes puntos:\n",
        "\n",
        "-Enunciar la hipótesis: hipótesis nula y alternativa.\n",
        "-Realizar la prueba para comprobar la hipótesis. Puede utilizar la prueba t de Student.\n",
        "-Analizar las conclusiones."
      ]
    },
    {
      "cell_type": "code",
      "execution_count": 3,
      "id": "8e0f3cf0",
      "metadata": {
        "id": "8e0f3cf0",
        "outputId": "399d1cfd-8507-428d-f9a0-ab86fb60cf51",
        "colab": {
          "base_uri": "https://localhost:8080/",
          "height": 269
        }
      },
      "outputs": [
        {
          "output_type": "execute_result",
          "data": {
            "text/plain": [
              "   Diet 1  Diet 2\n",
              "0     2.0     3.0\n",
              "1     2.5     3.2\n",
              "2     3.0     3.1\n",
              "3     2.8     2.9\n",
              "4     2.3     2.8\n",
              "5     2.7     3.0\n",
              "6     2.5     3.2"
            ],
            "text/html": [
              "\n",
              "  <div id=\"df-d100ece9-e7bf-4698-8019-5e2313101e89\" class=\"colab-df-container\">\n",
              "    <div>\n",
              "<style scoped>\n",
              "    .dataframe tbody tr th:only-of-type {\n",
              "        vertical-align: middle;\n",
              "    }\n",
              "\n",
              "    .dataframe tbody tr th {\n",
              "        vertical-align: top;\n",
              "    }\n",
              "\n",
              "    .dataframe thead th {\n",
              "        text-align: right;\n",
              "    }\n",
              "</style>\n",
              "<table border=\"1\" class=\"dataframe\">\n",
              "  <thead>\n",
              "    <tr style=\"text-align: right;\">\n",
              "      <th></th>\n",
              "      <th>Diet 1</th>\n",
              "      <th>Diet 2</th>\n",
              "    </tr>\n",
              "  </thead>\n",
              "  <tbody>\n",
              "    <tr>\n",
              "      <th>0</th>\n",
              "      <td>2.0</td>\n",
              "      <td>3.0</td>\n",
              "    </tr>\n",
              "    <tr>\n",
              "      <th>1</th>\n",
              "      <td>2.5</td>\n",
              "      <td>3.2</td>\n",
              "    </tr>\n",
              "    <tr>\n",
              "      <th>2</th>\n",
              "      <td>3.0</td>\n",
              "      <td>3.1</td>\n",
              "    </tr>\n",
              "    <tr>\n",
              "      <th>3</th>\n",
              "      <td>2.8</td>\n",
              "      <td>2.9</td>\n",
              "    </tr>\n",
              "    <tr>\n",
              "      <th>4</th>\n",
              "      <td>2.3</td>\n",
              "      <td>2.8</td>\n",
              "    </tr>\n",
              "    <tr>\n",
              "      <th>5</th>\n",
              "      <td>2.7</td>\n",
              "      <td>3.0</td>\n",
              "    </tr>\n",
              "    <tr>\n",
              "      <th>6</th>\n",
              "      <td>2.5</td>\n",
              "      <td>3.2</td>\n",
              "    </tr>\n",
              "  </tbody>\n",
              "</table>\n",
              "</div>\n",
              "    <div class=\"colab-df-buttons\">\n",
              "\n",
              "  <div class=\"colab-df-container\">\n",
              "    <button class=\"colab-df-convert\" onclick=\"convertToInteractive('df-d100ece9-e7bf-4698-8019-5e2313101e89')\"\n",
              "            title=\"Convert this dataframe to an interactive table.\"\n",
              "            style=\"display:none;\">\n",
              "\n",
              "  <svg xmlns=\"http://www.w3.org/2000/svg\" height=\"24px\" viewBox=\"0 -960 960 960\">\n",
              "    <path d=\"M120-120v-720h720v720H120Zm60-500h600v-160H180v160Zm220 220h160v-160H400v160Zm0 220h160v-160H400v160ZM180-400h160v-160H180v160Zm440 0h160v-160H620v160ZM180-180h160v-160H180v160Zm440 0h160v-160H620v160Z\"/>\n",
              "  </svg>\n",
              "    </button>\n",
              "\n",
              "  <style>\n",
              "    .colab-df-container {\n",
              "      display:flex;\n",
              "      gap: 12px;\n",
              "    }\n",
              "\n",
              "    .colab-df-convert {\n",
              "      background-color: #E8F0FE;\n",
              "      border: none;\n",
              "      border-radius: 50%;\n",
              "      cursor: pointer;\n",
              "      display: none;\n",
              "      fill: #1967D2;\n",
              "      height: 32px;\n",
              "      padding: 0 0 0 0;\n",
              "      width: 32px;\n",
              "    }\n",
              "\n",
              "    .colab-df-convert:hover {\n",
              "      background-color: #E2EBFA;\n",
              "      box-shadow: 0px 1px 2px rgba(60, 64, 67, 0.3), 0px 1px 3px 1px rgba(60, 64, 67, 0.15);\n",
              "      fill: #174EA6;\n",
              "    }\n",
              "\n",
              "    .colab-df-buttons div {\n",
              "      margin-bottom: 4px;\n",
              "    }\n",
              "\n",
              "    [theme=dark] .colab-df-convert {\n",
              "      background-color: #3B4455;\n",
              "      fill: #D2E3FC;\n",
              "    }\n",
              "\n",
              "    [theme=dark] .colab-df-convert:hover {\n",
              "      background-color: #434B5C;\n",
              "      box-shadow: 0px 1px 3px 1px rgba(0, 0, 0, 0.15);\n",
              "      filter: drop-shadow(0px 1px 2px rgba(0, 0, 0, 0.3));\n",
              "      fill: #FFFFFF;\n",
              "    }\n",
              "  </style>\n",
              "\n",
              "    <script>\n",
              "      const buttonEl =\n",
              "        document.querySelector('#df-d100ece9-e7bf-4698-8019-5e2313101e89 button.colab-df-convert');\n",
              "      buttonEl.style.display =\n",
              "        google.colab.kernel.accessAllowed ? 'block' : 'none';\n",
              "\n",
              "      async function convertToInteractive(key) {\n",
              "        const element = document.querySelector('#df-d100ece9-e7bf-4698-8019-5e2313101e89');\n",
              "        const dataTable =\n",
              "          await google.colab.kernel.invokeFunction('convertToInteractive',\n",
              "                                                    [key], {});\n",
              "        if (!dataTable) return;\n",
              "\n",
              "        const docLinkHtml = 'Like what you see? Visit the ' +\n",
              "          '<a target=\"_blank\" href=https://colab.research.google.com/notebooks/data_table.ipynb>data table notebook</a>'\n",
              "          + ' to learn more about interactive tables.';\n",
              "        element.innerHTML = '';\n",
              "        dataTable['output_type'] = 'display_data';\n",
              "        await google.colab.output.renderOutput(dataTable, element);\n",
              "        const docLink = document.createElement('div');\n",
              "        docLink.innerHTML = docLinkHtml;\n",
              "        element.appendChild(docLink);\n",
              "      }\n",
              "    </script>\n",
              "  </div>\n",
              "\n",
              "\n",
              "    <div id=\"df-92547acb-d777-42df-ba4b-1cd6702a5503\">\n",
              "      <button class=\"colab-df-quickchart\" onclick=\"quickchart('df-92547acb-d777-42df-ba4b-1cd6702a5503')\"\n",
              "                title=\"Suggest charts\"\n",
              "                style=\"display:none;\">\n",
              "\n",
              "<svg xmlns=\"http://www.w3.org/2000/svg\" height=\"24px\"viewBox=\"0 0 24 24\"\n",
              "     width=\"24px\">\n",
              "    <g>\n",
              "        <path d=\"M19 3H5c-1.1 0-2 .9-2 2v14c0 1.1.9 2 2 2h14c1.1 0 2-.9 2-2V5c0-1.1-.9-2-2-2zM9 17H7v-7h2v7zm4 0h-2V7h2v10zm4 0h-2v-4h2v4z\"/>\n",
              "    </g>\n",
              "</svg>\n",
              "      </button>\n",
              "\n",
              "<style>\n",
              "  .colab-df-quickchart {\n",
              "      --bg-color: #E8F0FE;\n",
              "      --fill-color: #1967D2;\n",
              "      --hover-bg-color: #E2EBFA;\n",
              "      --hover-fill-color: #174EA6;\n",
              "      --disabled-fill-color: #AAA;\n",
              "      --disabled-bg-color: #DDD;\n",
              "  }\n",
              "\n",
              "  [theme=dark] .colab-df-quickchart {\n",
              "      --bg-color: #3B4455;\n",
              "      --fill-color: #D2E3FC;\n",
              "      --hover-bg-color: #434B5C;\n",
              "      --hover-fill-color: #FFFFFF;\n",
              "      --disabled-bg-color: #3B4455;\n",
              "      --disabled-fill-color: #666;\n",
              "  }\n",
              "\n",
              "  .colab-df-quickchart {\n",
              "    background-color: var(--bg-color);\n",
              "    border: none;\n",
              "    border-radius: 50%;\n",
              "    cursor: pointer;\n",
              "    display: none;\n",
              "    fill: var(--fill-color);\n",
              "    height: 32px;\n",
              "    padding: 0;\n",
              "    width: 32px;\n",
              "  }\n",
              "\n",
              "  .colab-df-quickchart:hover {\n",
              "    background-color: var(--hover-bg-color);\n",
              "    box-shadow: 0 1px 2px rgba(60, 64, 67, 0.3), 0 1px 3px 1px rgba(60, 64, 67, 0.15);\n",
              "    fill: var(--button-hover-fill-color);\n",
              "  }\n",
              "\n",
              "  .colab-df-quickchart-complete:disabled,\n",
              "  .colab-df-quickchart-complete:disabled:hover {\n",
              "    background-color: var(--disabled-bg-color);\n",
              "    fill: var(--disabled-fill-color);\n",
              "    box-shadow: none;\n",
              "  }\n",
              "\n",
              "  .colab-df-spinner {\n",
              "    border: 2px solid var(--fill-color);\n",
              "    border-color: transparent;\n",
              "    border-bottom-color: var(--fill-color);\n",
              "    animation:\n",
              "      spin 1s steps(1) infinite;\n",
              "  }\n",
              "\n",
              "  @keyframes spin {\n",
              "    0% {\n",
              "      border-color: transparent;\n",
              "      border-bottom-color: var(--fill-color);\n",
              "      border-left-color: var(--fill-color);\n",
              "    }\n",
              "    20% {\n",
              "      border-color: transparent;\n",
              "      border-left-color: var(--fill-color);\n",
              "      border-top-color: var(--fill-color);\n",
              "    }\n",
              "    30% {\n",
              "      border-color: transparent;\n",
              "      border-left-color: var(--fill-color);\n",
              "      border-top-color: var(--fill-color);\n",
              "      border-right-color: var(--fill-color);\n",
              "    }\n",
              "    40% {\n",
              "      border-color: transparent;\n",
              "      border-right-color: var(--fill-color);\n",
              "      border-top-color: var(--fill-color);\n",
              "    }\n",
              "    60% {\n",
              "      border-color: transparent;\n",
              "      border-right-color: var(--fill-color);\n",
              "    }\n",
              "    80% {\n",
              "      border-color: transparent;\n",
              "      border-right-color: var(--fill-color);\n",
              "      border-bottom-color: var(--fill-color);\n",
              "    }\n",
              "    90% {\n",
              "      border-color: transparent;\n",
              "      border-bottom-color: var(--fill-color);\n",
              "    }\n",
              "  }\n",
              "</style>\n",
              "\n",
              "      <script>\n",
              "        async function quickchart(key) {\n",
              "          const quickchartButtonEl =\n",
              "            document.querySelector('#' + key + ' button');\n",
              "          quickchartButtonEl.disabled = true;  // To prevent multiple clicks.\n",
              "          quickchartButtonEl.classList.add('colab-df-spinner');\n",
              "          try {\n",
              "            const charts = await google.colab.kernel.invokeFunction(\n",
              "                'suggestCharts', [key], {});\n",
              "          } catch (error) {\n",
              "            console.error('Error during call to suggestCharts:', error);\n",
              "          }\n",
              "          quickchartButtonEl.classList.remove('colab-df-spinner');\n",
              "          quickchartButtonEl.classList.add('colab-df-quickchart-complete');\n",
              "        }\n",
              "        (() => {\n",
              "          let quickchartButtonEl =\n",
              "            document.querySelector('#df-92547acb-d777-42df-ba4b-1cd6702a5503 button');\n",
              "          quickchartButtonEl.style.display =\n",
              "            google.colab.kernel.accessAllowed ? 'block' : 'none';\n",
              "        })();\n",
              "      </script>\n",
              "    </div>\n",
              "\n",
              "  <div id=\"id_c4ed928b-e2df-4623-92b2-2ebf5130b860\">\n",
              "    <style>\n",
              "      .colab-df-generate {\n",
              "        background-color: #E8F0FE;\n",
              "        border: none;\n",
              "        border-radius: 50%;\n",
              "        cursor: pointer;\n",
              "        display: none;\n",
              "        fill: #1967D2;\n",
              "        height: 32px;\n",
              "        padding: 0 0 0 0;\n",
              "        width: 32px;\n",
              "      }\n",
              "\n",
              "      .colab-df-generate:hover {\n",
              "        background-color: #E2EBFA;\n",
              "        box-shadow: 0px 1px 2px rgba(60, 64, 67, 0.3), 0px 1px 3px 1px rgba(60, 64, 67, 0.15);\n",
              "        fill: #174EA6;\n",
              "      }\n",
              "\n",
              "      [theme=dark] .colab-df-generate {\n",
              "        background-color: #3B4455;\n",
              "        fill: #D2E3FC;\n",
              "      }\n",
              "\n",
              "      [theme=dark] .colab-df-generate:hover {\n",
              "        background-color: #434B5C;\n",
              "        box-shadow: 0px 1px 3px 1px rgba(0, 0, 0, 0.15);\n",
              "        filter: drop-shadow(0px 1px 2px rgba(0, 0, 0, 0.3));\n",
              "        fill: #FFFFFF;\n",
              "      }\n",
              "    </style>\n",
              "    <button class=\"colab-df-generate\" onclick=\"generateWithVariable('diets_df')\"\n",
              "            title=\"Generate code using this dataframe.\"\n",
              "            style=\"display:none;\">\n",
              "\n",
              "  <svg xmlns=\"http://www.w3.org/2000/svg\" height=\"24px\"viewBox=\"0 0 24 24\"\n",
              "       width=\"24px\">\n",
              "    <path d=\"M7,19H8.4L18.45,9,17,7.55,7,17.6ZM5,21V16.75L18.45,3.32a2,2,0,0,1,2.83,0l1.4,1.43a1.91,1.91,0,0,1,.58,1.4,1.91,1.91,0,0,1-.58,1.4L9.25,21ZM18.45,9,17,7.55Zm-12,3A5.31,5.31,0,0,0,4.9,8.1,5.31,5.31,0,0,0,1,6.5,5.31,5.31,0,0,0,4.9,4.9,5.31,5.31,0,0,0,6.5,1,5.31,5.31,0,0,0,8.1,4.9,5.31,5.31,0,0,0,12,6.5,5.46,5.46,0,0,0,6.5,12Z\"/>\n",
              "  </svg>\n",
              "    </button>\n",
              "    <script>\n",
              "      (() => {\n",
              "      const buttonEl =\n",
              "        document.querySelector('#id_c4ed928b-e2df-4623-92b2-2ebf5130b860 button.colab-df-generate');\n",
              "      buttonEl.style.display =\n",
              "        google.colab.kernel.accessAllowed ? 'block' : 'none';\n",
              "\n",
              "      buttonEl.onclick = () => {\n",
              "        google.colab.notebook.generateWithVariable('diets_df');\n",
              "      }\n",
              "      })();\n",
              "    </script>\n",
              "  </div>\n",
              "\n",
              "    </div>\n",
              "  </div>\n"
            ],
            "application/vnd.google.colaboratory.intrinsic+json": {
              "type": "dataframe",
              "variable_name": "diets_df",
              "summary": "{\n  \"name\": \"diets_df\",\n  \"rows\": 7,\n  \"fields\": [\n    {\n      \"column\": \"Diet 1\",\n      \"properties\": {\n        \"dtype\": \"number\",\n        \"std\": 0.3309438162646487,\n        \"min\": 2.0,\n        \"max\": 3.0,\n        \"num_unique_values\": 6,\n        \"samples\": [\n          2.0,\n          2.5,\n          2.7\n        ],\n        \"semantic_type\": \"\",\n        \"description\": \"\"\n      }\n    },\n    {\n      \"column\": \"Diet 2\",\n      \"properties\": {\n        \"dtype\": \"number\",\n        \"std\": 0.14960264830861927,\n        \"min\": 2.8,\n        \"max\": 3.2,\n        \"num_unique_values\": 5,\n        \"samples\": [\n          3.2,\n          2.8,\n          3.1\n        ],\n        \"semantic_type\": \"\",\n        \"description\": \"\"\n      }\n    }\n  ]\n}"
            }
          },
          "metadata": {},
          "execution_count": 3
        }
      ],
      "source": [
        "diets = {\n",
        "    'Diet 1': [2.0, 2.5, 3.0, 2.8, 2.3, 2.7, 2.5],\n",
        "    'Diet 2': [3.0, 3.2, 3.1, 2.9, 2.8, 3.0, 3.2]\n",
        "}\n",
        "\n",
        "diets_df = pd.DataFrame(diets)\n",
        "diets_df"
      ]
    },
    {
      "cell_type": "markdown",
      "source": [
        "$ H_0 $ = No existe una diferencia significativa en la pérdida de peso promedio entre la Dieta 1 y la Dieta 2.\n",
        "\n",
        "$$ H_0 : μ_1 = μ_2 $$"
      ],
      "metadata": {
        "id": "puFRDy3ziXKJ"
      },
      "id": "puFRDy3ziXKJ"
    },
    {
      "cell_type": "markdown",
      "source": [
        "$ H_1 $ = Si existe una diferencia significativa en la pérdida de peso promedio entre la Dieta 1 y la Dieta 2.\n",
        "\n",
        "$$  H_1 : μ_1 \\ne μ_2  $$"
      ],
      "metadata": {
        "id": "2yKhLOA-jUEU"
      },
      "id": "2yKhLOA-jUEU"
    },
    {
      "cell_type": "code",
      "source": [
        "sns.boxplot(data=diets_df)"
      ],
      "metadata": {
        "id": "YedCTRo6hgTc",
        "outputId": "0e744083-a1e4-4e62-d456-da856e4101b1",
        "colab": {
          "base_uri": "https://localhost:8080/",
          "height": 447
        }
      },
      "id": "YedCTRo6hgTc",
      "execution_count": 6,
      "outputs": [
        {
          "output_type": "execute_result",
          "data": {
            "text/plain": [
              "<Axes: >"
            ]
          },
          "metadata": {},
          "execution_count": 6
        },
        {
          "output_type": "display_data",
          "data": {
            "text/plain": [
              "<Figure size 640x480 with 1 Axes>"
            ],
            "image/png": "[encoded data removed]"
          },
          "metadata": {}
        }
      ]
    },
    {
      "cell_type": "code",
      "source": [
        "print(scipy.stats.shapiro(diets_df['Diet 1']).pvalue)\n",
        "print(scipy.stats.shapiro(diets_df['Diet 2']).pvalue)"
      ],
      "metadata": {
        "id": "EnktkqKLo70i",
        "outputId": "cbb34435-fff8-4e9b-f3ec-97b2f008ae18",
        "colab": {
          "base_uri": "https://localhost:8080/"
        }
      },
      "id": "EnktkqKLo70i",
      "execution_count": 18,
      "outputs": [
        {
          "output_type": "stream",
          "name": "stdout",
          "text": [
            "0.9635409177367069\n",
            "0.5905246580529597\n"
          ]
        }
      ]
    },
    {
      "cell_type": "markdown",
      "source": [
        "Con el test de Shapiro-Wilk, como el P-value es mayor a el nivel de significancia $ α = 0.05 $:\n",
        "$$ Diet_1 : 0.96 > α $$\n",
        "$$ Diet_2 : 0.59 > α $$"
      ],
      "metadata": {
        "id": "MIrEunNCpMIh"
      },
      "id": "MIrEunNCpMIh"
    },
    {
      "cell_type": "code",
      "source": [
        "p = scipy.stats.levene(diets_df['Diet 1'], diets_df['Diet 2'], center='mean').pvalue\n",
        "\n",
        "if p > 0.05:\n",
        "  print('Las varianzas son iguales, existe homocedasticidad')\n",
        "else:\n",
        "  print('Las varianzas son diferentes')"
      ],
      "metadata": {
        "id": "l6ZROn67qqih",
        "outputId": "14aadd09-f82a-4978-adc3-4201323e6ec7",
        "colab": {
          "base_uri": "https://localhost:8080/"
        }
      },
      "id": "l6ZROn67qqih",
      "execution_count": 20,
      "outputs": [
        {
          "output_type": "stream",
          "name": "stdout",
          "text": [
            "Las varianzas son iguales, existe homocedasticidad\n"
          ]
        }
      ]
    },
    {
      "cell_type": "markdown",
      "source": [
        "Con el test de Levene, se obtine que si puede realizarse el T-Test porque se cumplen las condiciones para realizarlo."
      ],
      "metadata": {
        "id": "cgAIx39Gr0Tp"
      },
      "id": "cgAIx39Gr0Tp"
    },
    {
      "cell_type": "code",
      "source": [
        "scipy.stats.ttest_ind(diets_df['Diet 1'],\n",
        "                      diets_df['Diet 2'],\n",
        "                      equal_var=True).pvalue"
      ],
      "metadata": {
        "id": "HZJnkOb9mprp",
        "outputId": "615d0ac5-070e-4753-89c3-703b0567a068",
        "colab": {
          "base_uri": "https://localhost:8080/"
        }
      },
      "id": "HZJnkOb9mprp",
      "execution_count": 21,
      "outputs": [
        {
          "output_type": "execute_result",
          "data": {
            "text/plain": [
              "np.float64(0.004083270191713912)"
            ]
          },
          "metadata": {},
          "execution_count": 21
        }
      ]
    },
    {
      "cell_type": "markdown",
      "source": [
        "Como el valor de significancia es de $ α=0.05 $\n",
        "\n",
        "$$ p ≤ α : 0.004 ≤ 0.05 $$\n",
        "\n",
        "El valor p es considerablemente menor que el nivel de significancia, por lo que rechazamos la hipótesis nula.\n",
        "\n",
        "Si existe una diferencia significativa entre las dos dietas, de acuerdo con el grafico de Boxplot, la dieta dos seria la que daria mejores resultados en la perdida de pesos."
      ],
      "metadata": {
        "id": "eNkGW_0Lnjq1"
      },
      "id": "eNkGW_0Lnjq1"
    },
    {
      "cell_type": "markdown",
      "id": "f432e18e",
      "metadata": {
        "id": "f432e18e"
      },
      "source": [
        "## ANOVA\n",
        "\n",
        "**ANOVA** (*Analysis of Variance - Análisis de variación*) Es una técnica estadística utilizada para comparar las medidas de dos o más grupos. La idea detrás de ANOVA es descomponer la variabilidad total de los datos en dos componentes: variabilidad entre grupos y variabilidad dentro de los grupos:\n",
        "\n",
        "- **Variabilidad entre grupos**: Esta variabilidad se refiere a las diferencias entre las medias del grupo. Si esta variabilidad es considerablemente mayor que la variabilidad dentro del grupo, podría ser una indicación de que al menos una de las medias del grupo es diferente.\n",
        "- **Variabilidad dentro del grupo**: Esta variabilidad se refiere a la dispersión de los datos dentro de cada grupo. Si todos los grupos tienen una variabilidad similar, entonces cualquier diferencia notable en las medias de los grupos podría considerarse significativa.\n",
        "\n",
        "Las hipótesis en ANOVA suelen incluir:\n",
        "\n",
        "- **Hipótesis nula** ($H₀$): Las medias de todos los grupos son iguales.\n",
        "- **Hipótesis alternativa** ($H₁$): Al menos una de las medias del grupo es diferente.\n",
        "\n",
        "Si el resultado de la prueba ANOVA es significativo (por ejemplo, un valor p inferior a un umbral como 0,05), esto sugiere que al menos la media de un grupo es diferente."
      ]
    },
    {
      "cell_type": "markdown",
      "id": "fc5f3721",
      "metadata": {
        "id": "fc5f3721"
      },
      "source": [
        "## Ejercicio 2\n",
        "\n",
        "Un agricultor decide probar tres tipos diferentes de fertilizantes para determinar si alguno es superior en términos de producción de maíz. El agricultor planta maíz en 15 parcelas idénticas y utiliza los tres fertilizantes (5 parcelas para cada tipo). Al final de la temporada mide el rendimiento de maíz (en kg) de cada parcela, con el siguiente resultado:\n",
        "\n",
        "| Fertilizante 1 | Fertilizante 2 | Fertilizante 3 |\n",
        "|:-------------|:-------------|:-------------|\n",
        "| 20 | 22 | 24 |\n",
        "| 21 | 21 | 23 |\n",
        "| 20 | 23 | 22 |\n",
        "| 19 | 22 | 23 |\n",
        "| 20 | 21 | 24 |\n",
        "\n",
        "Con estos datos busca responder la siguiente pregunta: ¿Existe una diferencia significativa en el rendimiento promedio del maíz entre los tres tipos de fertilizantes?\n",
        "\n",
        "Para ayudarte, sigue los siguientes puntos:\n",
        "\n",
        "-Enunciar la hipótesis: hipótesis nula y alternativa.\n",
        "-Realizar la prueba ANOVA.\n",
        "-Analizar las conclusiones.\n",
        "-Si un fertilizante es mejor que otro, ¿cómo podemos saberlo?"
      ]
    },
    {
      "cell_type": "code",
      "execution_count": null,
      "id": "eecad0ca",
      "metadata": {
        "id": "eecad0ca"
      },
      "outputs": [],
      "source": [
        "# TODO"
      ]
    }
  ],
  "metadata": {
    "interpreter": {
      "hash": "9248718ffe6ce6938b217e69dbcc175ea21f4c6b28a317e96c05334edae734bb"
    },
    "kernelspec": {
      "display_name": "Python 3.9.12 ('ML-BOOTCAMP')",
      "language": "python",
      "name": "python3"
    },
    "language_info": {
      "codemirror_mode": {
        "name": "ipython",
        "version": 3
      },
      "file_extension": ".py",
      "mimetype": "text/x-python",
      "name": "python",
      "nbconvert_exporter": "python",
      "pygments_lexer": "ipython3",
      "version": "3.11.4"
    },
    "colab": {
      "provenance": []
    }
  },
  "nbformat": 4,
  "nbformat_minor": 5
}